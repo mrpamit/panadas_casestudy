{
 "cells": [
  {
   "cell_type": "markdown",
   "id": "9b6597c0",
   "metadata": {},
   "source": [
    "                                            NUMPY_NCERT_BASIC"
   ]
  },
  {
   "cell_type": "markdown",
   "id": "61ad80d0",
   "metadata": {},
   "source": [
    "                                CASE STUDY ON IRIS DATASET ref. NCERT "
   ]
  },
  {
   "cell_type": "markdown",
   "id": "e7afd44a",
   "metadata": {},
   "source": [
    " 1.         --  Numpy basically stand for Numerical Pandas- its package for data analysis and scientific computing"
   ]
  },
  {
   "cell_type": "code",
   "execution_count": 1,
   "id": "545db478",
   "metadata": {},
   "outputs": [],
   "source": [
    "# installation can be done using the follwing command in terminal like cmd\n",
    "#pip install NumPy"
   ]
  },
  {
   "cell_type": "markdown",
   "id": "3cb987bd",
   "metadata": {},
   "source": [
    "2.-- data types - we can say user defined and inbuilt data types \n",
    "     inbuilt data types - dict, list ,tuple etc \n",
    "     user defind data types -  arrays, class, structure, union, Enumeration,\n",
    "     pointer, etc\n",
    "\n",
    "\n",
    "3.-- NumPy Array\n",
    "    NumPy arrays are used to store lists of numerical data, vectors and \n",
    "    matrices \n"
   ]
  },
  {
   "cell_type": "raw",
   "id": "ebce447d",
   "metadata": {},
   "source": [
    "'''#4--       Lets understand userdefined data types(Array) vs inbuilt datatypes(list)\n",
    "list                                             Array\n",
    "a.--List can have elements of different data     a.--   All elements of an array are of same data type for \n",
    "   types for example, [1,3.4, ‘hello’, ‘a@’]            example, an array of floats may be: [1.2, 5.4, 2.7]\n",
    "b.--List is a part of core Python.               b.--Array (ndarray) is a part of NumPy library.'''\n",
    "\n",
    "\n",
    "                                                \n",
    "\n",
    "\n",
    "\n"
   ]
  },
  {
   "cell_type": "markdown",
   "id": "549a1efb",
   "metadata": {},
   "source": [
    "5. -- Creation of numpy Array from list\n"
   ]
  },
  {
   "cell_type": "code",
   "execution_count": 2,
   "id": "d235eaeb",
   "metadata": {},
   "outputs": [],
   "source": [
    "# importing libraries \n",
    "import numpy as np\n"
   ]
  },
  {
   "cell_type": "code",
   "execution_count": 3,
   "id": "4667c3db",
   "metadata": {},
   "outputs": [
    {
     "data": {
      "text/plain": [
       "array([10, 20, 30])"
      ]
     },
     "execution_count": 3,
     "metadata": {},
     "output_type": "execute_result"
    }
   ],
   "source": [
    "# create an array \n",
    "# lets say \n",
    "array1 = np.array([10,20,30])\n",
    "array1"
   ]
  },
  {
   "cell_type": "code",
   "execution_count": 4,
   "id": "b45cc089",
   "metadata": {},
   "outputs": [
    {
     "data": {
      "text/plain": [
       "array(['5', '-7.4', 'a', '7.2'], dtype='<U32')"
      ]
     },
     "execution_count": 4,
     "metadata": {},
     "output_type": "execute_result"
    }
   ],
   "source": [
    "# 1-D array \n",
    "\n",
    "array2 = np.array([5,-7.4,'a',7.2])\n",
    "array2\n",
    "# here dtypes u32 means unicode 32\n"
   ]
  },
  {
   "cell_type": "markdown",
   "id": "83f56dc0",
   "metadata": {},
   "source": [
    "Attributes of array \n",
    "ndarray.ndim: gives the number of dimensions of the array as an integer value"
   ]
  },
  {
   "cell_type": "code",
   "execution_count": 5,
   "id": "52c87062",
   "metadata": {},
   "outputs": [
    {
     "data": {
      "text/plain": [
       "1"
      ]
     },
     "execution_count": 5,
     "metadata": {},
     "output_type": "execute_result"
    }
   ],
   "source": [
    "# dimesion of array \n",
    "array2.ndim"
   ]
  },
  {
   "cell_type": "code",
   "execution_count": 6,
   "id": "92c14c82",
   "metadata": {},
   "outputs": [
    {
     "data": {
      "text/plain": [
       "(3,)"
      ]
     },
     "execution_count": 6,
     "metadata": {},
     "output_type": "execute_result"
    }
   ],
   "source": [
    "array1.shape"
   ]
  },
  {
   "cell_type": "code",
   "execution_count": 7,
   "id": "ad8f5b4f",
   "metadata": {},
   "outputs": [],
   "source": [
    "array3 = np.array([[2.4,3],[4.91,7],[0,-1]])"
   ]
  },
  {
   "cell_type": "code",
   "execution_count": 8,
   "id": "ba0e79a3",
   "metadata": {},
   "outputs": [
    {
     "data": {
      "text/plain": [
       "2"
      ]
     },
     "execution_count": 8,
     "metadata": {},
     "output_type": "execute_result"
    }
   ],
   "source": [
    "array3.ndim"
   ]
  },
  {
   "cell_type": "code",
   "execution_count": 9,
   "id": "c2297e52",
   "metadata": {},
   "outputs": [
    {
     "data": {
      "text/plain": [
       "(3, 2)"
      ]
     },
     "execution_count": 9,
     "metadata": {},
     "output_type": "execute_result"
    }
   ],
   "source": [
    "array3.shape # gives the sequence of integer indicating sixe of the array in each dimesion"
   ]
  },
  {
   "cell_type": "code",
   "execution_count": 10,
   "id": "82f754f6",
   "metadata": {},
   "outputs": [
    {
     "data": {
      "text/plain": [
       "6"
      ]
     },
     "execution_count": 10,
     "metadata": {},
     "output_type": "execute_result"
    }
   ],
   "source": [
    "array3.size # gives total no of elements"
   ]
  },
  {
   "cell_type": "code",
   "execution_count": 11,
   "id": "70dc402d",
   "metadata": {},
   "outputs": [
    {
     "data": {
      "text/plain": [
       "dtype('float64')"
      ]
     },
     "execution_count": 11,
     "metadata": {},
     "output_type": "execute_result"
    }
   ],
   "source": [
    "array3.dtype  #print data types of element"
   ]
  },
  {
   "cell_type": "code",
   "execution_count": 12,
   "id": "c274c156",
   "metadata": {},
   "outputs": [
    {
     "data": {
      "text/plain": [
       "4"
      ]
     },
     "execution_count": 12,
     "metadata": {},
     "output_type": "execute_result"
    }
   ],
   "source": [
    "array1.itemsize # specifies the size in bytes of each item of the array "
   ]
  },
  {
   "cell_type": "markdown",
   "id": "3eb89118",
   "metadata": {},
   "source": [
    "alternative way  to create Arrays"
   ]
  },
  {
   "cell_type": "code",
   "execution_count": 13,
   "id": "97aeecb6",
   "metadata": {},
   "outputs": [],
   "source": [
    "array4 = np.array([[1,2],[3,4],[4,5]],dtype =float)"
   ]
  },
  {
   "cell_type": "code",
   "execution_count": 14,
   "id": "1b90d145",
   "metadata": {},
   "outputs": [
    {
     "data": {
      "text/plain": [
       "array([[1., 2.],\n",
       "       [3., 4.],\n",
       "       [4., 5.]])"
      ]
     },
     "execution_count": 14,
     "metadata": {},
     "output_type": "execute_result"
    }
   ],
   "source": [
    "array4"
   ]
  },
  {
   "cell_type": "code",
   "execution_count": 15,
   "id": "6c4bc71f",
   "metadata": {},
   "outputs": [
    {
     "data": {
      "text/plain": [
       "2"
      ]
     },
     "execution_count": 15,
     "metadata": {},
     "output_type": "execute_result"
    }
   ],
   "source": [
    "array4.ndim"
   ]
  },
  {
   "cell_type": "code",
   "execution_count": 16,
   "id": "bcc22c64",
   "metadata": {},
   "outputs": [
    {
     "data": {
      "text/plain": [
       "6"
      ]
     },
     "execution_count": 16,
     "metadata": {},
     "output_type": "execute_result"
    }
   ],
   "source": [
    "array4.size"
   ]
  },
  {
   "cell_type": "code",
   "execution_count": 17,
   "id": "bcf12b45",
   "metadata": {},
   "outputs": [],
   "source": [
    " zero_array = np.zeros((2,3))"
   ]
  },
  {
   "cell_type": "code",
   "execution_count": 18,
   "id": "0513e3ef",
   "metadata": {},
   "outputs": [
    {
     "data": {
      "text/plain": [
       "array([[0., 0., 0.],\n",
       "       [0., 0., 0.]])"
      ]
     },
     "execution_count": 18,
     "metadata": {},
     "output_type": "execute_result"
    }
   ],
   "source": [
    "zero_array"
   ]
  },
  {
   "cell_type": "code",
   "execution_count": 19,
   "id": "888bb66c",
   "metadata": {},
   "outputs": [],
   "source": [
    "array_with_arange = np.arange(6)"
   ]
  },
  {
   "cell_type": "code",
   "execution_count": 20,
   "id": "06088352",
   "metadata": {},
   "outputs": [
    {
     "data": {
      "text/plain": [
       "array([0, 1, 2, 3, 4, 5])"
      ]
     },
     "execution_count": 20,
     "metadata": {},
     "output_type": "execute_result"
    }
   ],
   "source": [
    "array_with_arange"
   ]
  },
  {
   "cell_type": "code",
   "execution_count": 21,
   "id": "99422589",
   "metadata": {},
   "outputs": [],
   "source": [
    "array_with_arange_with_Step_size = np.arange(2,10,2)"
   ]
  },
  {
   "cell_type": "code",
   "execution_count": 22,
   "id": "aabb5d82",
   "metadata": {},
   "outputs": [
    {
     "data": {
      "text/plain": [
       "array([2, 4, 6, 8])"
      ]
     },
     "execution_count": 22,
     "metadata": {},
     "output_type": "execute_result"
    }
   ],
   "source": [
    "array_with_arange_with_Step_size"
   ]
  },
  {
   "cell_type": "code",
   "execution_count": 23,
   "id": "b8c49f0a",
   "metadata": {},
   "outputs": [],
   "source": [
    "name = [\"Ramesh\",\"mahesh\",\"vedika\",\"ramu\"]\n",
    "maths = [79,89,89,90]\n",
    "English = [90,91,97,99]\n",
    "Science =[90,89,87,90]"
   ]
  },
  {
   "cell_type": "code",
   "execution_count": 24,
   "id": "70753ac3",
   "metadata": {},
   "outputs": [],
   "source": [
    "import pandas as pd\n",
    "\n",
    "arrays_to_dataframe=  pd.DataFrame({\"name\":name,\"maths\":maths,\"English\":English,\"Science\":Science} )"
   ]
  },
  {
   "cell_type": "code",
   "execution_count": 25,
   "id": "8b490b3a",
   "metadata": {},
   "outputs": [
    {
     "data": {
      "text/html": [
       "<div>\n",
       "<style scoped>\n",
       "    .dataframe tbody tr th:only-of-type {\n",
       "        vertical-align: middle;\n",
       "    }\n",
       "\n",
       "    .dataframe tbody tr th {\n",
       "        vertical-align: top;\n",
       "    }\n",
       "\n",
       "    .dataframe thead th {\n",
       "        text-align: right;\n",
       "    }\n",
       "</style>\n",
       "<table border=\"1\" class=\"dataframe\">\n",
       "  <thead>\n",
       "    <tr style=\"text-align: right;\">\n",
       "      <th></th>\n",
       "      <th>name</th>\n",
       "      <th>maths</th>\n",
       "      <th>English</th>\n",
       "      <th>Science</th>\n",
       "    </tr>\n",
       "  </thead>\n",
       "  <tbody>\n",
       "    <tr>\n",
       "      <th>0</th>\n",
       "      <td>Ramesh</td>\n",
       "      <td>79</td>\n",
       "      <td>90</td>\n",
       "      <td>90</td>\n",
       "    </tr>\n",
       "    <tr>\n",
       "      <th>1</th>\n",
       "      <td>mahesh</td>\n",
       "      <td>89</td>\n",
       "      <td>91</td>\n",
       "      <td>89</td>\n",
       "    </tr>\n",
       "    <tr>\n",
       "      <th>2</th>\n",
       "      <td>vedika</td>\n",
       "      <td>89</td>\n",
       "      <td>97</td>\n",
       "      <td>87</td>\n",
       "    </tr>\n",
       "    <tr>\n",
       "      <th>3</th>\n",
       "      <td>ramu</td>\n",
       "      <td>90</td>\n",
       "      <td>99</td>\n",
       "      <td>90</td>\n",
       "    </tr>\n",
       "  </tbody>\n",
       "</table>\n",
       "</div>"
      ],
      "text/plain": [
       "     name  maths  English  Science\n",
       "0  Ramesh     79       90       90\n",
       "1  mahesh     89       91       89\n",
       "2  vedika     89       97       87\n",
       "3    ramu     90       99       90"
      ]
     },
     "execution_count": 25,
     "metadata": {},
     "output_type": "execute_result"
    }
   ],
   "source": [
    "arrays_to_dataframe"
   ]
  },
  {
   "cell_type": "markdown",
   "id": "adc3d58d",
   "metadata": {},
   "source": [
    "Transpose_of_array"
   ]
  },
  {
   "cell_type": "code",
   "execution_count": 26,
   "id": "d15e9e56",
   "metadata": {},
   "outputs": [],
   "source": [
    "array3 = np.array([[10,-7,0, 20],[-5,1,200,40],[30,1,-1,4]])"
   ]
  },
  {
   "cell_type": "code",
   "execution_count": 27,
   "id": "2fb8229b",
   "metadata": {},
   "outputs": [
    {
     "data": {
      "text/plain": [
       "array([[ 10,  -5,  30],\n",
       "       [ -7,   1,   1],\n",
       "       [  0, 200,  -1],\n",
       "       [ 20,  40,   4]])"
      ]
     },
     "execution_count": 27,
     "metadata": {},
     "output_type": "execute_result"
    }
   ],
   "source": [
    "array3.transpose()"
   ]
  },
  {
   "cell_type": "markdown",
   "id": "0b9bd454",
   "metadata": {},
   "source": [
    " Sorting_array"
   ]
  },
  {
   "cell_type": "code",
   "execution_count": 28,
   "id": "d7cd5f9f",
   "metadata": {},
   "outputs": [],
   "source": [
    "array4 = np.array([1,0,2,-3,6,8,4,7])\n",
    "\n"
   ]
  },
  {
   "cell_type": "code",
   "execution_count": 29,
   "id": "64d97191",
   "metadata": {},
   "outputs": [],
   "source": [
    "array4.sort()"
   ]
  },
  {
   "cell_type": "code",
   "execution_count": 30,
   "id": "5963c31b",
   "metadata": {},
   "outputs": [
    {
     "data": {
      "text/plain": [
       "array([-3,  0,  1,  2,  4,  6,  7,  8])"
      ]
     },
     "execution_count": 30,
     "metadata": {},
     "output_type": "execute_result"
    }
   ],
   "source": [
    "array4"
   ]
  },
  {
   "cell_type": "code",
   "execution_count": 31,
   "id": "e717b397",
   "metadata": {},
   "outputs": [],
   "source": [
    "array5 = np.array([[10,-7,0, 20],[-5,1,200,40],[30,1,-1,4]])"
   ]
  },
  {
   "cell_type": "code",
   "execution_count": 32,
   "id": "2edea163",
   "metadata": {},
   "outputs": [
    {
     "data": {
      "text/plain": [
       "array([[ 10,  -7,   0,  20],\n",
       "       [ -5,   1, 200,  40],\n",
       "       [ 30,   1,  -1,   4]])"
      ]
     },
     "execution_count": 32,
     "metadata": {},
     "output_type": "execute_result"
    }
   ],
   "source": [
    "array5"
   ]
  },
  {
   "cell_type": "code",
   "execution_count": 33,
   "id": "d89514cd",
   "metadata": {},
   "outputs": [],
   "source": [
    "array5.sort(axis =0)\n",
    "##axis =0 means column-wise sorting "
   ]
  },
  {
   "cell_type": "code",
   "execution_count": 34,
   "id": "a8d45ace",
   "metadata": {},
   "outputs": [
    {
     "data": {
      "text/plain": [
       "array([[ -5,  -7,  -1,   4],\n",
       "       [ 10,   1,   0,  20],\n",
       "       [ 30,   1, 200,  40]])"
      ]
     },
     "execution_count": 34,
     "metadata": {},
     "output_type": "execute_result"
    }
   ],
   "source": [
    "array5"
   ]
  },
  {
   "cell_type": "markdown",
   "id": "9440b19a",
   "metadata": {},
   "source": [
    " Concatenating Arrays"
   ]
  },
  {
   "cell_type": "code",
   "execution_count": 35,
   "id": "0fa39d33",
   "metadata": {},
   "outputs": [],
   "source": [
    "array1 = np.array([[10, 20], [-30,40]])\n"
   ]
  },
  {
   "cell_type": "code",
   "execution_count": 36,
   "id": "105f7746",
   "metadata": {},
   "outputs": [
    {
     "data": {
      "text/plain": [
       "array([[ 10,  20],\n",
       "       [-30,  40]])"
      ]
     },
     "execution_count": 36,
     "metadata": {},
     "output_type": "execute_result"
    }
   ],
   "source": [
    "array1"
   ]
  },
  {
   "cell_type": "code",
   "execution_count": 37,
   "id": "01e75867",
   "metadata": {},
   "outputs": [
    {
     "data": {
      "text/plain": [
       "(2, 2)"
      ]
     },
     "execution_count": 37,
     "metadata": {},
     "output_type": "execute_result"
    }
   ],
   "source": [
    "array1.shape"
   ]
  },
  {
   "cell_type": "code",
   "execution_count": 38,
   "id": "6cf3454c",
   "metadata": {},
   "outputs": [],
   "source": [
    "array2 = np.zeros((2, 3), dtype=array1.dtype)\n"
   ]
  },
  {
   "cell_type": "code",
   "execution_count": 39,
   "id": "46cb8e5e",
   "metadata": {},
   "outputs": [
    {
     "data": {
      "text/plain": [
       "(2, 3)"
      ]
     },
     "execution_count": 39,
     "metadata": {},
     "output_type": "execute_result"
    }
   ],
   "source": [
    "array2.shape"
   ]
  },
  {
   "cell_type": "code",
   "execution_count": 40,
   "id": "35718950",
   "metadata": {},
   "outputs": [
    {
     "data": {
      "text/plain": [
       "array([[0, 0, 0],\n",
       "       [0, 0, 0]])"
      ]
     },
     "execution_count": 40,
     "metadata": {},
     "output_type": "execute_result"
    }
   ],
   "source": [
    "array2"
   ]
  },
  {
   "cell_type": "code",
   "execution_count": 41,
   "id": "cb6da4eb",
   "metadata": {},
   "outputs": [
    {
     "data": {
      "text/plain": [
       "array([[ 10,  20,   0,   0,   0],\n",
       "       [-30,  40,   0,   0,   0]])"
      ]
     },
     "execution_count": 41,
     "metadata": {},
     "output_type": "execute_result"
    }
   ],
   "source": [
    "np.concatenate((array1,array2),axis = 1)\n",
    "#"
   ]
  },
  {
   "cell_type": "markdown",
   "id": "a66e04ac",
   "metadata": {},
   "source": [
    "Reshaping Arrays"
   ]
  },
  {
   "cell_type": "code",
   "execution_count": 42,
   "id": "85480afb",
   "metadata": {},
   "outputs": [],
   "source": [
    "array3 = np.arange(10,22)"
   ]
  },
  {
   "cell_type": "code",
   "execution_count": 43,
   "id": "d054c000",
   "metadata": {
    "scrolled": true
   },
   "outputs": [
    {
     "data": {
      "text/plain": [
       "(12,)"
      ]
     },
     "execution_count": 43,
     "metadata": {},
     "output_type": "execute_result"
    }
   ],
   "source": [
    "array3.shape"
   ]
  },
  {
   "cell_type": "code",
   "execution_count": null,
   "id": "68818fa3",
   "metadata": {},
   "outputs": [],
   "source": []
  },
  {
   "cell_type": "code",
   "execution_count": 44,
   "id": "0b578a75",
   "metadata": {},
   "outputs": [
    {
     "data": {
      "text/plain": [
       "array([10, 11, 12, 13, 14, 15, 16, 17, 18, 19, 20, 21])"
      ]
     },
     "execution_count": 44,
     "metadata": {},
     "output_type": "execute_result"
    }
   ],
   "source": [
    "array3"
   ]
  },
  {
   "cell_type": "code",
   "execution_count": 45,
   "id": "f8c7c70f",
   "metadata": {},
   "outputs": [
    {
     "data": {
      "text/plain": [
       "array([[10, 11, 12, 13],\n",
       "       [14, 15, 16, 17],\n",
       "       [18, 19, 20, 21]])"
      ]
     },
     "execution_count": 45,
     "metadata": {},
     "output_type": "execute_result"
    }
   ],
   "source": [
    "array3.reshape(3,4)"
   ]
  },
  {
   "cell_type": "code",
   "execution_count": 46,
   "id": "efc97f09",
   "metadata": {},
   "outputs": [
    {
     "data": {
      "text/plain": [
       "array([[10, 11],\n",
       "       [12, 13],\n",
       "       [14, 15],\n",
       "       [16, 17],\n",
       "       [18, 19],\n",
       "       [20, 21]])"
      ]
     },
     "execution_count": 46,
     "metadata": {},
     "output_type": "execute_result"
    }
   ],
   "source": [
    "array3.reshape(6,2)"
   ]
  },
  {
   "cell_type": "markdown",
   "id": "0d4679d0",
   "metadata": {},
   "source": [
    "#.        -- statistical operation"
   ]
  },
  {
   "cell_type": "code",
   "execution_count": 47,
   "id": "6a0d66ca",
   "metadata": {},
   "outputs": [],
   "source": [
    "#let us take two arrays:\n",
    "arrayA = np.array([1,0,2,-3,6,8,4,7])     \n",
    "arrayB = np.array([[3,6],[4,2]])"
   ]
  },
  {
   "cell_type": "code",
   "execution_count": 48,
   "id": "ff367370",
   "metadata": {},
   "outputs": [
    {
     "data": {
      "text/plain": [
       "array([[3, 6],\n",
       "       [4, 2]])"
      ]
     },
     "execution_count": 48,
     "metadata": {},
     "output_type": "execute_result"
    }
   ],
   "source": [
    "arrayB"
   ]
  },
  {
   "cell_type": "code",
   "execution_count": 49,
   "id": "0012a4ca",
   "metadata": {},
   "outputs": [],
   "source": [
    "#here we can see in case of 2-D array if passing parameter axis =1 i.e columns wise and axis =0 rowwise "
   ]
  },
  {
   "cell_type": "code",
   "execution_count": 50,
   "id": "692dd386",
   "metadata": {},
   "outputs": [
    {
     "data": {
      "text/plain": [
       "array([3, 2])"
      ]
     },
     "execution_count": 50,
     "metadata": {},
     "output_type": "execute_result"
    }
   ],
   "source": [
    "arrayB.min(axis = 1)"
   ]
  },
  {
   "cell_type": "code",
   "execution_count": 51,
   "id": "bb032613",
   "metadata": {},
   "outputs": [
    {
     "data": {
      "text/plain": [
       "8"
      ]
     },
     "execution_count": 51,
     "metadata": {},
     "output_type": "execute_result"
    }
   ],
   "source": [
    "arrayA.max()"
   ]
  },
  {
   "cell_type": "code",
   "execution_count": 52,
   "id": "e74a0546",
   "metadata": {},
   "outputs": [
    {
     "data": {
      "text/plain": [
       "8"
      ]
     },
     "execution_count": 52,
     "metadata": {},
     "output_type": "execute_result"
    }
   ],
   "source": [
    "arrayA.max()"
   ]
  },
  {
   "cell_type": "code",
   "execution_count": 53,
   "id": "4bb6eeed",
   "metadata": {},
   "outputs": [
    {
     "data": {
      "text/plain": [
       "array([3.5, 4. ])"
      ]
     },
     "execution_count": 53,
     "metadata": {},
     "output_type": "execute_result"
    }
   ],
   "source": [
    "arrayB.mean(axis = 0)"
   ]
  },
  {
   "cell_type": "code",
   "execution_count": 54,
   "id": "2f1a3756",
   "metadata": {},
   "outputs": [
    {
     "data": {
      "text/plain": [
       "array([4.5, 3. ])"
      ]
     },
     "execution_count": 54,
     "metadata": {},
     "output_type": "execute_result"
    }
   ],
   "source": [
    "arrayB.mean(axis =1)"
   ]
  },
  {
   "cell_type": "code",
   "execution_count": 55,
   "id": "eb3ccaa1",
   "metadata": {},
   "outputs": [
    {
     "data": {
      "text/plain": [
       "3.550968177835448"
      ]
     },
     "execution_count": 55,
     "metadata": {},
     "output_type": "execute_result"
    }
   ],
   "source": [
    "arrayA.std()"
   ]
  },
  {
   "cell_type": "code",
   "execution_count": 56,
   "id": "33fe9c34",
   "metadata": {},
   "outputs": [],
   "source": [
    "# Loading Arrays from Files\n",
    "# to load that data in an array for processing. numpy.loadtxt() and numpy.genfromtxt()are the two functions that can be used to load data from text files. \n",
    "# The most commonly used file type to handle large amount of data is called CSV (Comma Separated Values)"
   ]
  },
  {
   "cell_type": "raw",
   "id": "7bf5737b",
   "metadata": {},
   "source": [
    "READING DATA IN TXT FROMAT"
   ]
  },
  {
   "cell_type": "code",
   "execution_count": 57,
   "id": "1993c320",
   "metadata": {},
   "outputs": [],
   "source": [
    "# dataarray = np.genfromtxt('C:/NCERT/dataMissing.txt',skip_header=1, delimiter=',', filling_values=-999, dtype = int)\n",
    "#studentdata = np.loadtxt('C:/NCERT/data.txt', skiprows=1, delimiter=',', dtype = int)\n"
   ]
  },
  {
   "cell_type": "markdown",
   "id": "cfa2cf45",
   "metadata": {},
   "source": [
    "SAVING DATA TO LOCAL DRIVE "
   ]
  },
  {
   "cell_type": "code",
   "execution_count": 58,
   "id": "8cb59b62",
   "metadata": {},
   "outputs": [],
   "source": [
    "#np.savetxt('C:/NCERT/testout.txt', studentdata, delimiter=',', fmt='%i')"
   ]
  },
  {
   "cell_type": "code",
   "execution_count": null,
   "id": "74e90777",
   "metadata": {},
   "outputs": [],
   "source": []
  },
  {
   "cell_type": "markdown",
   "id": "387963d4",
   "metadata": {},
   "source": [
    "\n",
    "# --casestudy on iris dataset (NCERT SOLVED)\n",
    "\n",
    "1. Load the data in the file Iris.txt in a 2-D array called iris.\n",
    "2. Drop column whose index = 4 from the array iris.\n",
    "3. Display the shape, dimensions and size of iris.\n",
    "4. Split iris into three 2-D arrays, each array for a different species. Call them iris1, iris2, iris3.\n",
    "5. Print the three arrays iris1, iris2, iris3\n",
    "6. Create a 1-D array header having elements \"sepal length\", \"sepal width\", \"petal length\", \"petal width\", \"Species No\" in that order.\n",
    "7. Display the array header. \n",
    "8. Find the max, min, mean and standard deviation for the columns of the iris and store the results in the arrays iris_max, iris_min, iris_avg, iris_std, iris_var respectively. The results must be rounded to not more than two decimal places\n",
    "9. Similarly find the max, min, mean and standard deviation for the columns of the iris1, iris2 and iris3 and store the results in the arrays with appropriate names. \n",
    "10. Check the minimum value for sepal length, sepal width, petal length and petal width of the three species in comparison to the minimum value of sepal length, sepal width, petal length and petal width for the data set as a whole and fill the table below with True if the species value is greater than the dataset value and False otherwise\n",
    "11. Compare Iris setosa’s average sepal width to that of Iris virginica. \n",
    "12. Compare Iris setosa’s average petal length to that of Iris virginica. \n",
    "13. Compare Iris setosa’s average petal width to that of Iris virginica. \n",
    "14. Save the array iris_avg in a comma separated file namedIrisMeanValues.txt on the hard disk.\n",
    "15. Save the arrays iris_max, iris_avg, iris_min in a comma separated file named IrisStat.txt on the hard disk.\n"
   ]
  },
  {
   "cell_type": "code",
   "execution_count": 59,
   "id": "e4ad1ebb",
   "metadata": {},
   "outputs": [],
   "source": [
    "df_txt = pd.read_csv('https://raw.githubusercontent.com/sagar3122/Machine-Learning/master/iris.data.txt')"
   ]
  },
  {
   "cell_type": "code",
   "execution_count": 60,
   "id": "a0d6a8bc",
   "metadata": {},
   "outputs": [],
   "source": [
    "iris_Dataset = pd.read_csv(r\"D:\\DS_Resources\\Datasets\\iris_dataset\\Iris.csv\")"
   ]
  },
  {
   "cell_type": "code",
   "execution_count": null,
   "id": "57b26a7f",
   "metadata": {},
   "outputs": [],
   "source": []
  },
  {
   "cell_type": "code",
   "execution_count": 61,
   "id": "e4d8617b",
   "metadata": {},
   "outputs": [],
   "source": [
    "# iris_data = np.loadtxt(\"D:\\DS_Resources\\Datasets\\iris_dataset-master\\iris.data.txt\", skiprows=1, delimiter=',', dtype = float)"
   ]
  },
  {
   "cell_type": "code",
   "execution_count": 62,
   "id": "77456abd",
   "metadata": {},
   "outputs": [],
   "source": [
    "import numpy as np\n",
    "#1\n",
    "iris_data = np.genfromtxt(\"D:\\DS_Resources\\Datasets\\iris_dataset-master\\iris.data.txt\",skip_header=1, delimiter=',', dtype = float)"
   ]
  },
  {
   "cell_type": "code",
   "execution_count": 63,
   "id": "692c88aa",
   "metadata": {},
   "outputs": [
    {
     "data": {
      "text/plain": [
       "array([[4.9, 3. , 1.4, 0.2, nan],\n",
       "       [4.7, 3.2, 1.3, 0.2, nan],\n",
       "       [4.6, 3.1, 1.5, 0.2, nan],\n",
       "       [5. , 3.6, 1.4, 0.2, nan],\n",
       "       [5.4, 3.9, 1.7, 0.4, nan],\n",
       "       [4.6, 3.4, 1.4, 0.3, nan],\n",
       "       [5. , 3.4, 1.5, 0.2, nan],\n",
       "       [4.4, 2.9, 1.4, 0.2, nan],\n",
       "       [4.9, 3.1, 1.5, 0.1, nan],\n",
       "       [5.4, 3.7, 1.5, 0.2, nan],\n",
       "       [4.8, 3.4, 1.6, 0.2, nan],\n",
       "       [4.8, 3. , 1.4, 0.1, nan],\n",
       "       [4.3, 3. , 1.1, 0.1, nan],\n",
       "       [5.8, 4. , 1.2, 0.2, nan],\n",
       "       [5.7, 4.4, 1.5, 0.4, nan],\n",
       "       [5.4, 3.9, 1.3, 0.4, nan],\n",
       "       [5.1, 3.5, 1.4, 0.3, nan],\n",
       "       [5.7, 3.8, 1.7, 0.3, nan],\n",
       "       [5.1, 3.8, 1.5, 0.3, nan],\n",
       "       [5.4, 3.4, 1.7, 0.2, nan],\n",
       "       [5.1, 3.7, 1.5, 0.4, nan],\n",
       "       [4.6, 3.6, 1. , 0.2, nan],\n",
       "       [5.1, 3.3, 1.7, 0.5, nan],\n",
       "       [4.8, 3.4, 1.9, 0.2, nan],\n",
       "       [5. , 3. , 1.6, 0.2, nan],\n",
       "       [5. , 3.4, 1.6, 0.4, nan],\n",
       "       [5.2, 3.5, 1.5, 0.2, nan],\n",
       "       [5.2, 3.4, 1.4, 0.2, nan],\n",
       "       [4.7, 3.2, 1.6, 0.2, nan],\n",
       "       [4.8, 3.1, 1.6, 0.2, nan],\n",
       "       [5.4, 3.4, 1.5, 0.4, nan],\n",
       "       [5.2, 4.1, 1.5, 0.1, nan],\n",
       "       [5.5, 4.2, 1.4, 0.2, nan],\n",
       "       [4.9, 3.1, 1.5, 0.1, nan],\n",
       "       [5. , 3.2, 1.2, 0.2, nan],\n",
       "       [5.5, 3.5, 1.3, 0.2, nan],\n",
       "       [4.9, 3.1, 1.5, 0.1, nan],\n",
       "       [4.4, 3. , 1.3, 0.2, nan],\n",
       "       [5.1, 3.4, 1.5, 0.2, nan],\n",
       "       [5. , 3.5, 1.3, 0.3, nan],\n",
       "       [4.5, 2.3, 1.3, 0.3, nan],\n",
       "       [4.4, 3.2, 1.3, 0.2, nan],\n",
       "       [5. , 3.5, 1.6, 0.6, nan],\n",
       "       [5.1, 3.8, 1.9, 0.4, nan],\n",
       "       [4.8, 3. , 1.4, 0.3, nan],\n",
       "       [5.1, 3.8, 1.6, 0.2, nan],\n",
       "       [4.6, 3.2, 1.4, 0.2, nan],\n",
       "       [5.3, 3.7, 1.5, 0.2, nan],\n",
       "       [5. , 3.3, 1.4, 0.2, nan],\n",
       "       [7. , 3.2, 4.7, 1.4, nan],\n",
       "       [6.4, 3.2, 4.5, 1.5, nan],\n",
       "       [6.9, 3.1, 4.9, 1.5, nan],\n",
       "       [5.5, 2.3, 4. , 1.3, nan],\n",
       "       [6.5, 2.8, 4.6, 1.5, nan],\n",
       "       [5.7, 2.8, 4.5, 1.3, nan],\n",
       "       [6.3, 3.3, 4.7, 1.6, nan],\n",
       "       [4.9, 2.4, 3.3, 1. , nan],\n",
       "       [6.6, 2.9, 4.6, 1.3, nan],\n",
       "       [5.2, 2.7, 3.9, 1.4, nan],\n",
       "       [5. , 2. , 3.5, 1. , nan],\n",
       "       [5.9, 3. , 4.2, 1.5, nan],\n",
       "       [6. , 2.2, 4. , 1. , nan],\n",
       "       [6.1, 2.9, 4.7, 1.4, nan],\n",
       "       [5.6, 2.9, 3.6, 1.3, nan],\n",
       "       [6.7, 3.1, 4.4, 1.4, nan],\n",
       "       [5.6, 3. , 4.5, 1.5, nan],\n",
       "       [5.8, 2.7, 4.1, 1. , nan],\n",
       "       [6.2, 2.2, 4.5, 1.5, nan],\n",
       "       [5.6, 2.5, 3.9, 1.1, nan],\n",
       "       [5.9, 3.2, 4.8, 1.8, nan],\n",
       "       [6.1, 2.8, 4. , 1.3, nan],\n",
       "       [6.3, 2.5, 4.9, 1.5, nan],\n",
       "       [6.1, 2.8, 4.7, 1.2, nan],\n",
       "       [6.4, 2.9, 4.3, 1.3, nan],\n",
       "       [6.6, 3. , 4.4, 1.4, nan],\n",
       "       [6.8, 2.8, 4.8, 1.4, nan],\n",
       "       [6.7, 3. , 5. , 1.7, nan],\n",
       "       [6. , 2.9, 4.5, 1.5, nan],\n",
       "       [5.7, 2.6, 3.5, 1. , nan],\n",
       "       [5.5, 2.4, 3.8, 1.1, nan],\n",
       "       [5.5, 2.4, 3.7, 1. , nan],\n",
       "       [5.8, 2.7, 3.9, 1.2, nan],\n",
       "       [6. , 2.7, 5.1, 1.6, nan],\n",
       "       [5.4, 3. , 4.5, 1.5, nan],\n",
       "       [6. , 3.4, 4.5, 1.6, nan],\n",
       "       [6.7, 3.1, 4.7, 1.5, nan],\n",
       "       [6.3, 2.3, 4.4, 1.3, nan],\n",
       "       [5.6, 3. , 4.1, 1.3, nan],\n",
       "       [5.5, 2.5, 4. , 1.3, nan],\n",
       "       [5.5, 2.6, 4.4, 1.2, nan],\n",
       "       [6.1, 3. , 4.6, 1.4, nan],\n",
       "       [5.8, 2.6, 4. , 1.2, nan],\n",
       "       [5. , 2.3, 3.3, 1. , nan],\n",
       "       [5.6, 2.7, 4.2, 1.3, nan],\n",
       "       [5.7, 3. , 4.2, 1.2, nan],\n",
       "       [5.7, 2.9, 4.2, 1.3, nan],\n",
       "       [6.2, 2.9, 4.3, 1.3, nan],\n",
       "       [5.1, 2.5, 3. , 1.1, nan],\n",
       "       [5.7, 2.8, 4.1, 1.3, nan],\n",
       "       [6.3, 3.3, 6. , 2.5, nan],\n",
       "       [5.8, 2.7, 5.1, 1.9, nan],\n",
       "       [7.1, 3. , 5.9, 2.1, nan],\n",
       "       [6.3, 2.9, 5.6, 1.8, nan],\n",
       "       [6.5, 3. , 5.8, 2.2, nan],\n",
       "       [7.6, 3. , 6.6, 2.1, nan],\n",
       "       [4.9, 2.5, 4.5, 1.7, nan],\n",
       "       [7.3, 2.9, 6.3, 1.8, nan],\n",
       "       [6.7, 2.5, 5.8, 1.8, nan],\n",
       "       [7.2, 3.6, 6.1, 2.5, nan],\n",
       "       [6.5, 3.2, 5.1, 2. , nan],\n",
       "       [6.4, 2.7, 5.3, 1.9, nan],\n",
       "       [6.8, 3. , 5.5, 2.1, nan],\n",
       "       [5.7, 2.5, 5. , 2. , nan],\n",
       "       [5.8, 2.8, 5.1, 2.4, nan],\n",
       "       [6.4, 3.2, 5.3, 2.3, nan],\n",
       "       [6.5, 3. , 5.5, 1.8, nan],\n",
       "       [7.7, 3.8, 6.7, 2.2, nan],\n",
       "       [7.7, 2.6, 6.9, 2.3, nan],\n",
       "       [6. , 2.2, 5. , 1.5, nan],\n",
       "       [6.9, 3.2, 5.7, 2.3, nan],\n",
       "       [5.6, 2.8, 4.9, 2. , nan],\n",
       "       [7.7, 2.8, 6.7, 2. , nan],\n",
       "       [6.3, 2.7, 4.9, 1.8, nan],\n",
       "       [6.7, 3.3, 5.7, 2.1, nan],\n",
       "       [7.2, 3.2, 6. , 1.8, nan],\n",
       "       [6.2, 2.8, 4.8, 1.8, nan],\n",
       "       [6.1, 3. , 4.9, 1.8, nan],\n",
       "       [6.4, 2.8, 5.6, 2.1, nan],\n",
       "       [7.2, 3. , 5.8, 1.6, nan],\n",
       "       [7.4, 2.8, 6.1, 1.9, nan],\n",
       "       [7.9, 3.8, 6.4, 2. , nan],\n",
       "       [6.4, 2.8, 5.6, 2.2, nan],\n",
       "       [6.3, 2.8, 5.1, 1.5, nan],\n",
       "       [6.1, 2.6, 5.6, 1.4, nan],\n",
       "       [7.7, 3. , 6.1, 2.3, nan],\n",
       "       [6.3, 3.4, 5.6, 2.4, nan],\n",
       "       [6.4, 3.1, 5.5, 1.8, nan],\n",
       "       [6. , 3. , 4.8, 1.8, nan],\n",
       "       [6.9, 3.1, 5.4, 2.1, nan],\n",
       "       [6.7, 3.1, 5.6, 2.4, nan],\n",
       "       [6.9, 3.1, 5.1, 2.3, nan],\n",
       "       [5.8, 2.7, 5.1, 1.9, nan],\n",
       "       [6.8, 3.2, 5.9, 2.3, nan],\n",
       "       [6.7, 3.3, 5.7, 2.5, nan],\n",
       "       [6.7, 3. , 5.2, 2.3, nan],\n",
       "       [6.3, 2.5, 5. , 1.9, nan],\n",
       "       [6.5, 3. , 5.2, 2. , nan],\n",
       "       [6.2, 3.4, 5.4, 2.3, nan],\n",
       "       [5.9, 3. , 5.1, 1.8, nan]])"
      ]
     },
     "execution_count": 63,
     "metadata": {},
     "output_type": "execute_result"
    }
   ],
   "source": [
    "iris_data"
   ]
  },
  {
   "cell_type": "code",
   "execution_count": 64,
   "id": "b4457a4f",
   "metadata": {},
   "outputs": [],
   "source": [
    "#2\n",
    "iris_data = iris_data[0:30,[0,1,2,3]]\n"
   ]
  },
  {
   "cell_type": "code",
   "execution_count": 65,
   "id": "ea1c8611",
   "metadata": {},
   "outputs": [
    {
     "data": {
      "text/plain": [
       "array([[4.9, 3. , 1.4, 0.2],\n",
       "       [4.7, 3.2, 1.3, 0.2],\n",
       "       [4.6, 3.1, 1.5, 0.2],\n",
       "       [5. , 3.6, 1.4, 0.2],\n",
       "       [5.4, 3.9, 1.7, 0.4],\n",
       "       [4.6, 3.4, 1.4, 0.3],\n",
       "       [5. , 3.4, 1.5, 0.2],\n",
       "       [4.4, 2.9, 1.4, 0.2],\n",
       "       [4.9, 3.1, 1.5, 0.1],\n",
       "       [5.4, 3.7, 1.5, 0.2],\n",
       "       [4.8, 3.4, 1.6, 0.2],\n",
       "       [4.8, 3. , 1.4, 0.1],\n",
       "       [4.3, 3. , 1.1, 0.1],\n",
       "       [5.8, 4. , 1.2, 0.2],\n",
       "       [5.7, 4.4, 1.5, 0.4],\n",
       "       [5.4, 3.9, 1.3, 0.4],\n",
       "       [5.1, 3.5, 1.4, 0.3],\n",
       "       [5.7, 3.8, 1.7, 0.3],\n",
       "       [5.1, 3.8, 1.5, 0.3],\n",
       "       [5.4, 3.4, 1.7, 0.2],\n",
       "       [5.1, 3.7, 1.5, 0.4],\n",
       "       [4.6, 3.6, 1. , 0.2],\n",
       "       [5.1, 3.3, 1.7, 0.5],\n",
       "       [4.8, 3.4, 1.9, 0.2],\n",
       "       [5. , 3. , 1.6, 0.2],\n",
       "       [5. , 3.4, 1.6, 0.4],\n",
       "       [5.2, 3.5, 1.5, 0.2],\n",
       "       [5.2, 3.4, 1.4, 0.2],\n",
       "       [4.7, 3.2, 1.6, 0.2],\n",
       "       [4.8, 3.1, 1.6, 0.2]])"
      ]
     },
     "execution_count": 65,
     "metadata": {},
     "output_type": "execute_result"
    }
   ],
   "source": [
    "iris_data"
   ]
  },
  {
   "cell_type": "code",
   "execution_count": 66,
   "id": "0d80eb98",
   "metadata": {},
   "outputs": [
    {
     "data": {
      "text/plain": [
       "2"
      ]
     },
     "execution_count": 66,
     "metadata": {},
     "output_type": "execute_result"
    }
   ],
   "source": [
    "iris_data.ndim"
   ]
  },
  {
   "cell_type": "code",
   "execution_count": 67,
   "id": "90a18efa",
   "metadata": {},
   "outputs": [
    {
     "data": {
      "text/plain": [
       "(30, 4)"
      ]
     },
     "execution_count": 67,
     "metadata": {},
     "output_type": "execute_result"
    }
   ],
   "source": [
    "iris_data.shape"
   ]
  },
  {
   "cell_type": "code",
   "execution_count": 68,
   "id": "e69415d2",
   "metadata": {},
   "outputs": [],
   "source": [
    "# Q3\n",
    "iris1,iris2,iris3 = np.split(iris_data,[10,20],axis =0)"
   ]
  },
  {
   "cell_type": "code",
   "execution_count": 69,
   "id": "949e2eee",
   "metadata": {},
   "outputs": [
    {
     "data": {
      "text/plain": [
       "array([[4.9, 3. , 1.4, 0.2],\n",
       "       [4.7, 3.2, 1.3, 0.2],\n",
       "       [4.6, 3.1, 1.5, 0.2],\n",
       "       [5. , 3.6, 1.4, 0.2],\n",
       "       [5.4, 3.9, 1.7, 0.4],\n",
       "       [4.6, 3.4, 1.4, 0.3],\n",
       "       [5. , 3.4, 1.5, 0.2],\n",
       "       [4.4, 2.9, 1.4, 0.2],\n",
       "       [4.9, 3.1, 1.5, 0.1],\n",
       "       [5.4, 3.7, 1.5, 0.2]])"
      ]
     },
     "execution_count": 69,
     "metadata": {},
     "output_type": "execute_result"
    }
   ],
   "source": [
    "#4\n",
    "iris1"
   ]
  },
  {
   "cell_type": "code",
   "execution_count": 70,
   "id": "cf7d7488",
   "metadata": {
    "scrolled": true
   },
   "outputs": [
    {
     "data": {
      "text/plain": [
       "array([[4.8, 3.4, 1.6, 0.2],\n",
       "       [4.8, 3. , 1.4, 0.1],\n",
       "       [4.3, 3. , 1.1, 0.1],\n",
       "       [5.8, 4. , 1.2, 0.2],\n",
       "       [5.7, 4.4, 1.5, 0.4],\n",
       "       [5.4, 3.9, 1.3, 0.4],\n",
       "       [5.1, 3.5, 1.4, 0.3],\n",
       "       [5.7, 3.8, 1.7, 0.3],\n",
       "       [5.1, 3.8, 1.5, 0.3],\n",
       "       [5.4, 3.4, 1.7, 0.2]])"
      ]
     },
     "execution_count": 70,
     "metadata": {},
     "output_type": "execute_result"
    }
   ],
   "source": [
    "iris2"
   ]
  },
  {
   "cell_type": "code",
   "execution_count": 71,
   "id": "fa4c2621",
   "metadata": {},
   "outputs": [
    {
     "data": {
      "text/plain": [
       "array([[5.1, 3.7, 1.5, 0.4],\n",
       "       [4.6, 3.6, 1. , 0.2],\n",
       "       [5.1, 3.3, 1.7, 0.5],\n",
       "       [4.8, 3.4, 1.9, 0.2],\n",
       "       [5. , 3. , 1.6, 0.2],\n",
       "       [5. , 3.4, 1.6, 0.4],\n",
       "       [5.2, 3.5, 1.5, 0.2],\n",
       "       [5.2, 3.4, 1.4, 0.2],\n",
       "       [4.7, 3.2, 1.6, 0.2],\n",
       "       [4.8, 3.1, 1.6, 0.2]])"
      ]
     },
     "execution_count": 71,
     "metadata": {},
     "output_type": "execute_result"
    }
   ],
   "source": [
    "iris3"
   ]
  },
  {
   "cell_type": "code",
   "execution_count": 72,
   "id": "ea57e387",
   "metadata": {},
   "outputs": [],
   "source": [
    "#Q6 \n",
    "header = np.array([\"sepal length\", \"sepal width\", \"petal length\", \"petal width\"])\n"
   ]
  },
  {
   "cell_type": "code",
   "execution_count": 73,
   "id": "ab717cb8",
   "metadata": {},
   "outputs": [
    {
     "name": "stdout",
     "output_type": "stream",
     "text": [
      "['sepal length' 'sepal width' 'petal length' 'petal width']\n"
     ]
    }
   ],
   "source": [
    "#Q7 Priting header\n",
    "print(header)"
   ]
  },
  {
   "cell_type": "markdown",
   "id": "a8c180eb",
   "metadata": {},
   "source": [
    "                              stats for iris_dataset\n"
   ]
  },
  {
   "cell_type": "code",
   "execution_count": 74,
   "id": "fee63f11",
   "metadata": {},
   "outputs": [],
   "source": [
    "#Q8\n",
    "iris_max =iris_data.max(axis =0)"
   ]
  },
  {
   "cell_type": "code",
   "execution_count": 75,
   "id": "6a711a07",
   "metadata": {},
   "outputs": [
    {
     "data": {
      "text/plain": [
       "array([5.8, 4.4, 1.9, 0.5])"
      ]
     },
     "execution_count": 75,
     "metadata": {},
     "output_type": "execute_result"
    }
   ],
   "source": [
    "iris_max"
   ]
  },
  {
   "cell_type": "code",
   "execution_count": 76,
   "id": "f6552754",
   "metadata": {},
   "outputs": [],
   "source": [
    "iris_min =iris_data.min(axis =0)"
   ]
  },
  {
   "cell_type": "code",
   "execution_count": 77,
   "id": "d4f44b9b",
   "metadata": {},
   "outputs": [
    {
     "data": {
      "text/plain": [
       "array([4.3, 2.9, 1. , 0.1])"
      ]
     },
     "execution_count": 77,
     "metadata": {},
     "output_type": "execute_result"
    }
   ],
   "source": [
    "iris_min"
   ]
  },
  {
   "cell_type": "code",
   "execution_count": 78,
   "id": "75bd0dbf",
   "metadata": {},
   "outputs": [],
   "source": [
    "iris_mean =iris_data.mean(axis=0).round(2)"
   ]
  },
  {
   "cell_type": "code",
   "execution_count": 79,
   "id": "422bfb0c",
   "metadata": {},
   "outputs": [
    {
     "data": {
      "text/plain": [
       "array([5.02, 3.44, 1.48, 0.25])"
      ]
     },
     "execution_count": 79,
     "metadata": {},
     "output_type": "execute_result"
    }
   ],
   "source": [
    "iris_mean"
   ]
  },
  {
   "cell_type": "code",
   "execution_count": 80,
   "id": "3675a432",
   "metadata": {},
   "outputs": [],
   "source": [
    "iris_avg = iris_data.mean(axis=0).round(2)"
   ]
  },
  {
   "cell_type": "code",
   "execution_count": 81,
   "id": "e82af6c5",
   "metadata": {},
   "outputs": [],
   "source": [
    "iris_std  = iris_data.std(axis = 0).round(2)"
   ]
  },
  {
   "cell_type": "code",
   "execution_count": 82,
   "id": "9e7d0943",
   "metadata": {},
   "outputs": [
    {
     "data": {
      "text/plain": [
       "array([0.37, 0.35, 0.18, 0.1 ])"
      ]
     },
     "execution_count": 82,
     "metadata": {},
     "output_type": "execute_result"
    }
   ],
   "source": [
    "iris_std"
   ]
  },
  {
   "cell_type": "code",
   "execution_count": 83,
   "id": "0da51b87",
   "metadata": {},
   "outputs": [],
   "source": [
    "iris1_max = iris1.max(axis=0)"
   ]
  },
  {
   "cell_type": "code",
   "execution_count": 84,
   "id": "388caf2e",
   "metadata": {},
   "outputs": [
    {
     "data": {
      "text/plain": [
       "array([5.4, 3.9, 1.7, 0.4])"
      ]
     },
     "execution_count": 84,
     "metadata": {},
     "output_type": "execute_result"
    }
   ],
   "source": [
    "iris1_max"
   ]
  },
  {
   "cell_type": "code",
   "execution_count": 85,
   "id": "aec18ed9",
   "metadata": {},
   "outputs": [],
   "source": [
    "iris1_min = iris1.min(axis =0)"
   ]
  },
  {
   "cell_type": "code",
   "execution_count": 86,
   "id": "ed34259c",
   "metadata": {},
   "outputs": [],
   "source": [
    "iris2_max = iris2.max(axis=0)"
   ]
  },
  {
   "cell_type": "code",
   "execution_count": 87,
   "id": "91d14169",
   "metadata": {},
   "outputs": [
    {
     "data": {
      "text/plain": [
       "array([5.8, 4.4, 1.7, 0.4])"
      ]
     },
     "execution_count": 87,
     "metadata": {},
     "output_type": "execute_result"
    }
   ],
   "source": [
    "iris2_max"
   ]
  },
  {
   "cell_type": "code",
   "execution_count": 88,
   "id": "cea363bb",
   "metadata": {},
   "outputs": [],
   "source": [
    "iris3_max = iris3.max(axis=0)"
   ]
  },
  {
   "cell_type": "code",
   "execution_count": 89,
   "id": "797c08fe",
   "metadata": {},
   "outputs": [],
   "source": [
    "iris1_min = iris1.min(axis=0)"
   ]
  },
  {
   "cell_type": "code",
   "execution_count": 90,
   "id": "da9e74ce",
   "metadata": {},
   "outputs": [],
   "source": [
    "iris3_min = iris3.min(axis=0)"
   ]
  },
  {
   "cell_type": "code",
   "execution_count": 91,
   "id": "9e30419f",
   "metadata": {},
   "outputs": [
    {
     "data": {
      "text/plain": [
       "True"
      ]
     },
     "execution_count": 91,
     "metadata": {},
     "output_type": "execute_result"
    }
   ],
   "source": [
    "iris1_min[0] > iris_min[0]"
   ]
  },
  {
   "cell_type": "code",
   "execution_count": 93,
   "id": "5efa0b7c",
   "metadata": {},
   "outputs": [],
   "source": [
    " #Save the array iris_avg\n",
    "np.savetxt('D:\\DS_Resources\\IrisMeanValues.txt', iris_avg, delimiter = ',')\n"
   ]
  },
  {
   "cell_type": "code",
   "execution_count": 94,
   "id": "9fa697e7",
   "metadata": {},
   "outputs": [],
   "source": [
    "#Save the arrays iris_max\n",
    "np.savetxt('D:\\DS_Resources\\IrisStat.txt', (iris_max, iris_avg, iris_min), delimiter=',')"
   ]
  }
 ],
 "metadata": {
  "kernelspec": {
   "display_name": "Python 3.10.7 64-bit",
   "language": "python",
   "name": "python3"
  },
  "language_info": {
   "codemirror_mode": {
    "name": "ipython",
    "version": 3
   },
   "file_extension": ".py",
   "mimetype": "text/x-python",
   "name": "python",
   "nbconvert_exporter": "python",
   "pygments_lexer": "ipython3",
   "version": "3.10.7"
  },
  "vscode": {
   "interpreter": {
    "hash": "c1ba95ffbc87e670feefffafc827fd6fc55e0f86124ab0adbd9f49a8f3c978db"
   }
  }
 },
 "nbformat": 4,
 "nbformat_minor": 5
}
